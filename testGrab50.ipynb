{
  "cells": [
    {
      "cell_type": "code",
      "source": [
        "pip install biopython"
      ],
      "metadata": {
        "colab": {
          "base_uri": "https://localhost:8080/"
        },
        "id": "vvQ9VhPKII0y",
        "outputId": "a20b9d00-b5f1-43c0-df19-1037fb317722"
      },
      "execution_count": 2,
      "outputs": [
        {
          "output_type": "stream",
          "name": "stdout",
          "text": [
            "Collecting biopython\n",
            "  Downloading biopython-1.85-cp311-cp311-manylinux_2_17_x86_64.manylinux2014_x86_64.whl.metadata (13 kB)\n",
            "Requirement already satisfied: numpy in /usr/local/lib/python3.11/dist-packages (from biopython) (1.26.4)\n",
            "Downloading biopython-1.85-cp311-cp311-manylinux_2_17_x86_64.manylinux2014_x86_64.whl (3.3 MB)\n",
            "\u001b[?25l   \u001b[90m━━━━━━━━━━━━━━━━━━━━━━━━━━━━━━━━━━━━━━━━\u001b[0m \u001b[32m0.0/3.3 MB\u001b[0m \u001b[31m?\u001b[0m eta \u001b[36m-:--:--\u001b[0m\r\u001b[2K   \u001b[91m━\u001b[0m\u001b[91m╸\u001b[0m\u001b[90m━━━━━━━━━━━━━━━━━━━━━━━━━━━━━━━━━━━━━━\u001b[0m \u001b[32m0.2/3.3 MB\u001b[0m \u001b[31m4.6 MB/s\u001b[0m eta \u001b[36m0:00:01\u001b[0m\r\u001b[2K   \u001b[91m━━━━━━━━━━━━━━━━\u001b[0m\u001b[90m╺\u001b[0m\u001b[90m━━━━━━━━━━━━━━━━━━━━━━━\u001b[0m \u001b[32m1.3/3.3 MB\u001b[0m \u001b[31m19.2 MB/s\u001b[0m eta \u001b[36m0:00:01\u001b[0m\r\u001b[2K   \u001b[91m━━━━━━━━━━━━━━━━━━━━━━━━━━━━━━━━━━━━━━━\u001b[0m\u001b[91m╸\u001b[0m \u001b[32m3.3/3.3 MB\u001b[0m \u001b[31m35.3 MB/s\u001b[0m eta \u001b[36m0:00:01\u001b[0m\r\u001b[2K   \u001b[90m━━━━━━━━━━━━━━━━━━━━━━━━━━━━━━━━━━━━━━━━\u001b[0m \u001b[32m3.3/3.3 MB\u001b[0m \u001b[31m26.8 MB/s\u001b[0m eta \u001b[36m0:00:00\u001b[0m\n",
            "\u001b[?25hInstalling collected packages: biopython\n",
            "Successfully installed biopython-1.85\n"
          ]
        }
      ]
    },
    {
      "cell_type": "code",
      "execution_count": 15,
      "metadata": {
        "colab": {
          "base_uri": "https://localhost:8080/"
        },
        "id": "t7xdzLQDIE8l",
        "outputId": "8ea571a8-2ae6-491a-d258-a3d97472bb12"
      },
      "outputs": [
        {
          "output_type": "stream",
          "name": "stdout",
          "text": [
            "For query : Coronaviridae[Organism], found 9086324\n"
          ]
        }
      ],
      "source": [
        "from Bio import Entrez\n",
        "\n",
        "\n",
        "Entrez.email = \"hsundar@ucdavis.edu\"\n",
        "\n",
        "def search_complete_genomes(query, retmax = 0):\n",
        "    \"\"\"\n",
        "    Search the NCBI genbank nucleotide database for complete genomes.\n",
        "\n",
        "    Input:\n",
        "        Query(Str): Query to search for\n",
        "        Retmax(int): num records to search (0 defaults to all)\n",
        "\n",
        "    Returns:\n",
        "        [Count] : total count for query\n",
        "        [IdList]: list of virus id's\n",
        "    \"\"\"\n",
        "    try:\n",
        "        with Entrez.esearch(db=\"nucleotide\", term= query, retmax=retmax) as handle:\n",
        "            record = Entrez.read(handle)\n",
        "        return record[\"Count\"], record[\"IdList\"]\n",
        "    except Exception as e:\n",
        "        print(f\"Error searching for complete genomes: {e}\")\n",
        "        return []\n",
        "\n",
        "\n",
        "query = \"Coronaviridae[Organism]\"\n",
        "\n",
        "\n",
        "# Test run, only grabbing data for first 50\n",
        "total_count, record_ids = search_complete_genomes(query, retmax=10)\n",
        "print(f\"For query : {query}, found {total_count}\")\n"
      ]
    },
    {
      "cell_type": "code",
      "execution_count": 16,
      "metadata": {
        "colab": {
          "base_uri": "https://localhost:8080/"
        },
        "id": "tLAtVJkGIE8m",
        "outputId": "ab19f175-9cd9-4ce6-df58-ba429542bc7a"
      },
      "outputs": [
        {
          "output_type": "stream",
          "name": "stdout",
          "text": [
            "Fetching record 1/10: 2026632707\n",
            "Fetching record 2/10: 2026632694\n",
            "Fetching record 3/10: 2026632681\n",
            "Fetching record 4/10: 2026632668\n",
            "Fetching record 5/10: 2026632655\n",
            "Fetching record 6/10: 2026632642\n",
            "Fetching record 7/10: 2026632629\n",
            "Fetching record 8/10: 2026632616\n",
            "Fetching record 9/10: 2026632603\n",
            "Fetching record 10/10: 2026632590\n"
          ]
        }
      ],
      "source": [
        "from Bio import SeqIO\n",
        "import time\n",
        "\n",
        "def fetch_genome_details(accession_id):\n",
        "    \"\"\"\n",
        "    Method to fetch metadata and genome sequence for a given accession ID\n",
        "\n",
        "    Input:\n",
        "        Accession_id(int): id to look up in database\n",
        "\n",
        "    \"\"\"\n",
        "    try:\n",
        "        with Entrez.efetch(db = \"nucleotide\", id = accession_id, rettype = \"gb\", retmode=\"text\") as handle:\n",
        "            record = SeqIO.read(handle, \"genbank\")\n",
        "\n",
        "        collection_date = \"Unknown\"\n",
        "        isolation_source = \"Unknown\"\n",
        "\n",
        "        for feature in record.features:\n",
        "            if feature.type == \"source\":\n",
        "                collection_date = feature.qualifiers.get(\"collection_date\", [\"Unknown\"])[0]\n",
        "                isolation_source = feature.qualifiers.get(\"isolation_source\", [\"Unknown\"])[0]\n",
        "\n",
        "        return {\n",
        "            \"Accession\": record.id,\n",
        "            \"Description\": record.description,\n",
        "            \"Organism\": record.annotations.get(\"organism\", \"Unknown\"),\n",
        "            \"Length\": len(record.seq),\n",
        "            \"Source\": record.annotations.get(\"source\", \"Unknown\"),\n",
        "            \"Taxonomy\": \"; \".join(record.annotations.get(\"taxonomy\", [])),\n",
        "            \"Collection Date\": collection_date,\n",
        "            \"Isolation Source\": isolation_source,\n",
        "            \"Sequence\": str(record.seq),\n",
        "        }\n",
        "    except Exception as e:\n",
        "        print(f\"Error fetching details for {accession_id}: {e}\")\n",
        "        return None\n",
        "\n",
        "\n",
        "genome_data = []\n",
        "for idx, record_id in enumerate(record_ids):\n",
        "    print(f\"Fetching record {idx + 1}/{len(record_ids)}: {record_id}\")\n",
        "    details = fetch_genome_details(record_id)\n",
        "    if details:\n",
        "        genome_data.append(details)\n",
        "\n",
        "    #Can only grab 1 per second without violating NCBI limits\n",
        "    time.sleep(1)\n"
      ]
    },
    {
      "cell_type": "code",
      "execution_count": 17,
      "metadata": {
        "colab": {
          "base_uri": "https://localhost:8080/"
        },
        "id": "yPTiEFEBIE8m",
        "outputId": "08202575-7ffb-4370-e32d-429e8ec4f5e4"
      },
      "outputs": [
        {
          "output_type": "stream",
          "name": "stdout",
          "text": [
            "Data saved to genbank_genome_coronaviridae_test_run.csv.\n"
          ]
        }
      ],
      "source": [
        "import csv\n",
        "\n",
        "def save_to_csv(data, filename):\n",
        "    \"\"\"Save genome data to a CSV file.\"\"\"\n",
        "    with open(filename, \"w\", newline=\"\", encoding=\"utf-8\") as csvfile:\n",
        "        fieldnames = [\"Accession\", \"Description\", \"Organism\", \"Length\", \"Source\", \"Taxonomy\",\"Collection Date\", \"Isolation Source\",\"Sequence\"]\n",
        "\n",
        "        writer = csv.DictWriter(csvfile, fieldnames=fieldnames)\n",
        "\n",
        "        writer.writeheader()\n",
        "        writer.writerows(data)\n",
        "\n",
        "    print(f\"Data saved to {filename}.\")\n",
        "\n",
        "# Save the genome data to CSV\n",
        "save_to_csv(genome_data, filename=\"genbank_genome_coronaviridae_test_run.csv\")\n"
      ]
    }
  ],
  "metadata": {
    "kernelspec": {
      "display_name": "Python 3",
      "language": "python",
      "name": "python3"
    },
    "language_info": {
      "codemirror_mode": {
        "name": "ipython",
        "version": 3
      },
      "file_extension": ".py",
      "mimetype": "text/x-python",
      "name": "python",
      "nbconvert_exporter": "python",
      "pygments_lexer": "ipython3",
      "version": "3.12.0"
    },
    "colab": {
      "provenance": []
    }
  },
  "nbformat": 4,
  "nbformat_minor": 0
}