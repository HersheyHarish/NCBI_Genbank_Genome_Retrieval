{
 "cells": [
  {
   "cell_type": "code",
   "execution_count": null,
   "metadata": {},
   "outputs": [
    {
     "name": "stderr",
     "output_type": "stream",
     "text": [
      "<>:37: SyntaxWarning: invalid escape sequence '\\o'\n",
      "<>:37: SyntaxWarning: invalid escape sequence '\\o'\n",
      "C:\\Users\\haris\\AppData\\Local\\Temp\\ipykernel_34892\\3454561175.py:37: SyntaxWarning: invalid escape sequence '\\o'\n",
      "  csv_folder_path = \".\\old_genbank_pull\"  # Replace with your actual folder path\n"
     ]
    },
    {
     "name": "stdout",
     "output_type": "stream",
     "text": [
      "Saved 30000 random samples to random_viral_samples.csv\n"
     ]
    }
   ],
   "source": [
    "import pandas as pd\n",
    "import random\n",
    "import glob\n",
    "\n",
    "# Function to merge multiple CSVs and select k random rows\n",
    "def merge_and_sample(csv_folder, k, output_file):\n",
    "    \"\"\"\n",
    "    Merges multiple CSV files from a folder, selects k random virus genome records, and saves to a new CSV.\n",
    "    \n",
    "    Args:\n",
    "        csv_folder (str): Path to the folder containing CSV files.\n",
    "        k (int): Number of random entries to retrieve.\n",
    "        output_file (str): Output CSV filename.\n",
    "    \"\"\"\n",
    "    # Get all CSV file paths from the folder\n",
    "    csv_files = glob.glob(f\"{csv_folder}/*.csv\")\n",
    "    \n",
    "    df_list = [pd.read_csv(file) for file in csv_files]\n",
    "    merged_df = pd.concat(df_list, ignore_index=True)\n",
    "    \n",
    "    k = min(k, len(merged_df))\n",
    "    \n",
    "    # Randomly sample k rows\n",
    "    sampled_df = merged_df.sample(n=k, random_state=42)  # random_state ensures reproducibility\n",
    "    \n",
    "    selected_columns = [\"accession\", \"seq_definition\", \"seq_length\", \"GBSeq_organism\"]\n",
    "    sampled_df = sampled_df[selected_columns]\n",
    "    \n",
    "    sampled_df.to_csv(output_file, index=False)\n",
    "    print(f\"Saved {k} random samples to {output_file}\")\n",
    "\n",
    "# Example usage\n",
    "csv_folder_path = \".\\old_genbank_pull\"\n",
    "k = 30000 \n",
    "output_csv = \"random_viral_samples.csv\"\n",
    "\n",
    "merge_and_sample(csv_folder_path, k, output_csv)\n"
   ]
  }
 ],
 "metadata": {
  "kernelspec": {
   "display_name": "Python 3",
   "language": "python",
   "name": "python3"
  },
  "language_info": {
   "codemirror_mode": {
    "name": "ipython",
    "version": 3
   },
   "file_extension": ".py",
   "mimetype": "text/x-python",
   "name": "python",
   "nbconvert_exporter": "python",
   "pygments_lexer": "ipython3",
   "version": "3.13.2"
  }
 },
 "nbformat": 4,
 "nbformat_minor": 2
}
